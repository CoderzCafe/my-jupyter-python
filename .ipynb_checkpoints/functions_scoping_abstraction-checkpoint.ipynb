{
 "cells": [
  {
   "cell_type": "code",
   "execution_count": 2,
   "metadata": {},
   "outputs": [
    {
     "name": "stdout",
     "output_type": "stream",
     "text": [
      "10\n"
     ]
    }
   ],
   "source": [
    "\n",
    "\"\"\" ==== declearing a function =====\n",
    "def name of function (list of formal parameters):\n",
    "    body of function\n",
    "\"\"\"\n",
    "\n",
    "def max(x, y):\n",
    "    if x > y:\n",
    "        return x\n",
    "    else:\n",
    "        return y\n",
    "\n",
    "print(max(10, 10))\n"
   ]
  },
  {
   "cell_type": "code",
   "execution_count": 5,
   "metadata": {},
   "outputs": [
    {
     "data": {
      "text/plain": [
       "False"
      ]
     },
     "execution_count": 5,
     "metadata": {},
     "output_type": "execute_result"
    }
   ],
   "source": [
    "\n",
    "# Write a function isIn that accepts two strings as arguments\n",
    "# and returns True if either string occurs anywhere in the other, and False\n",
    "# otherwise. Hint: you might want to use the built-in str operation in .\n",
    "\n",
    "def isIn(a, b):\n",
    "    if(str(a) in str(b)):\n",
    "        return True\n",
    "    else:\n",
    "        return False\n",
    "\n",
    "isIn(\"ccc\", \"sudiptoshine\")"
   ]
  },
  {
   "cell_type": "code",
   "execution_count": 10,
   "metadata": {},
   "outputs": [
    {
     "name": "stdout",
     "output_type": "stream",
     "text": [
      "Olga Puchmajerova\n",
      "Olga Puchmajerova\n",
      "Olga Puchmajerova\n",
      "Olga Puchmajerova\n",
      "Olga Puchmajerova\n"
     ]
    }
   ],
   "source": [
    "\n",
    "\n",
    "def printName(firstName, lastName, reverse):\n",
    "    if reverse:\n",
    "        print(lastName+\" \"+firstName)\n",
    "    else:\n",
    "        print(firstName+ \" \" +lastName)\n",
    "\n",
    "printName('Olga', 'Puchmajerova', False)\n",
    "printName('Olga', 'Puchmajerova', False)\n",
    "printName('Olga', 'Puchmajerova', reverse = False)\n",
    "printName('Olga', lastName = 'Puchmajerova', reverse = False)\n",
    "printName(lastName='Puchmajerova', firstName='Olga', reverse=False)"
   ]
  },
  {
   "cell_type": "code",
   "execution_count": 13,
   "metadata": {},
   "outputs": [
    {
     "name": "stdout",
     "output_type": "stream",
     "text": [
      "24\n",
      "24\n"
     ]
    }
   ],
   "source": [
    "\n",
    "## recursive function\n",
    "\n",
    "def factI(n):\n",
    "    \"\"\" assumes that n is an int > 0\n",
    "        returns n!\n",
    "    \"\"\"\n",
    "    result = 1\n",
    "\n",
    "    while n > 1:\n",
    "        result = result * n\n",
    "        n -= 1\n",
    "    return result\n",
    "\n",
    "def factR(n):\n",
    "    \"\"\" assumes that n is an int > 0 and returns n! \"\"\"\n",
    "    if n == 1:\n",
    "        return n\n",
    "    else:\n",
    "        return n*factR(n - 1)\n",
    "    \n",
    "\n",
    "print(factI(4))\n",
    "print(factR(4))\n",
    "\n"
   ]
  },
  {
   "cell_type": "code",
   "execution_count": null,
   "metadata": {},
   "outputs": [],
   "source": []
  }
 ],
 "metadata": {
  "kernelspec": {
   "display_name": "Python 2",
   "language": "python",
   "name": "python2"
  },
  "language_info": {
   "codemirror_mode": {
    "name": "ipython",
    "version": 2
   },
   "file_extension": ".py",
   "mimetype": "text/x-python",
   "name": "python",
   "nbconvert_exporter": "python",
   "pygments_lexer": "ipython2",
   "version": "2.7.17"
  }
 },
 "nbformat": 4,
 "nbformat_minor": 2
}
